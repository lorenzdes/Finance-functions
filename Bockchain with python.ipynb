{
  "cells": [
    {
      "cell_type": "markdown",
      "metadata": {
        "id": "view-in-github",
        "colab_type": "text"
      },
      "source": [
        "<a href=\"https://colab.research.google.com/github/lorenzdes/Finance-functions/blob/main/Bockchain%20with%20python.ipynb\" target=\"_parent\"><img src=\"https://colab.research.google.com/assets/colab-badge.svg\" alt=\"Open In Colab\"/></a>"
      ]
    },
    {
      "cell_type": "code",
      "source": [
        "# importing the required libraries  \n",
        "import hashlib  \n",
        "import json  \n",
        "from time import time  \n",
        "  \n",
        "# creating the Block_chain class  \n",
        "class Block_chain(object):  \n",
        "    def __init__(self):  \n",
        "        self.chain = []  \n",
        "        self.pendingTransactions = []  \n",
        "  \n",
        "        self.newBlock(previousHash = \"The Times 12/Nov/2022 Lorenzo created a new blockchain.\", the_proof = 100)\n",
        "\n",
        "\n",
        "    # Creating a new block listing key/value pair of  \n",
        "# block information in a JSON object.  \n",
        "# Reset the list of pending transactions &  \n",
        "# append the newest block to the chain.  \n",
        "    def newBlock(self, the_proof, previousHash = None):  \n",
        "        the_block = {  \n",
        "            'index': len(self.chain) + 1,  \n",
        "            'timestamp': time(),  \n",
        "            'transactions': self.pendingTransactions,  \n",
        "            'proof': the_proof,  \n",
        "            'previous_hash': previousHash or self.hash(self.chain[-1]),  \n",
        "        }  \n",
        "        self.pendingTransactions = []  \n",
        "        self.chain.append(the_block)  \n",
        "  \n",
        "        return the_block  \n",
        "    \n",
        "    #Searching the blockchain for the most recent block.  \n",
        "    @property  \n",
        "    def lastBlock(self):  \n",
        "   \n",
        "        return self.chain[-1]  \n",
        "  \n",
        "# Adding a transaction with relevant info to the 'blockpool' - list of pending transactions.   \n",
        "    def newTransaction(self, the_sender, the_recipient, the_amount):  \n",
        "        the_transaction = {  \n",
        "            'sender': the_sender,  \n",
        "            'recipient': the_recipient,  \n",
        "            'amount': the_amount  \n",
        "        }  \n",
        "        self.pendingTransactions.append(the_transaction)  \n",
        "        return self.lastBlock['index'] + 1\n",
        "      \n",
        "    # receiving one block. Turning it into a string, turning that into  \n",
        "# Unicode (for hashing). Hashing with SHA256 encryption,  \n",
        "# then translating the Unicode into a hexadecimal string.  \n",
        "    def hash(self, the_block):  \n",
        "        stringObject = json.dumps(the_block, sort_keys = True)  \n",
        "        blockString = stringObject.encode()  \n",
        "  \n",
        "        rawHash = hashlib.sha256(blockString)  \n",
        "        hexHash = rawHash.hexdigest()  \n",
        "  \n",
        "        return hexHash "
      ],
      "metadata": {
        "id": "ZZkkfES7WUcE"
      },
      "execution_count": 4,
      "outputs": []
    },
    {
      "cell_type": "code",
      "source": [
        "block_chain = Block_chain()  \n",
        "transaction1 = block_chain.newTransaction(\"Satoshi\", \"Alex\", '10 BTC')  \n",
        "transaction2 = block_chain.newTransaction(\"Alex\", \"Satoshi\", '2 BTC')  \n",
        "transaction3 = block_chain.newTransaction(\"Satoshi\", \"James\", '10 BTC')  \n",
        "block_chain.newBlock(10123)  \n",
        "  \n",
        "transaction4 = block_chain.newTransaction(\"Alex\", \"Lucy\", '2 BTC')  \n",
        "transaction5 = block_chain.newTransaction(\"Lucy\", \"Justin\", '1 BTC')  \n",
        "transaction6 = block_chain.newTransaction(\"Justin\", \"Alex\", '1 BTC')  \n",
        "block_chain.newBlock(10384)  \n",
        "  \n",
        "print(\"Genesis block: \", block_chain.chain)  "
      ],
      "metadata": {
        "id": "0UuFbt_9YXh8",
        "outputId": "32900a3f-a6ff-4bf2-85c1-92ef0abebc3f",
        "colab": {
          "base_uri": "https://localhost:8080/"
        }
      },
      "execution_count": 5,
      "outputs": [
        {
          "output_type": "stream",
          "name": "stdout",
          "text": [
            "Genesis block:  [{'index': 1, 'timestamp': 1668265641.9385817, 'transactions': [], 'proof': 100, 'previous_hash': 'The Times 03/Jan/2009 Chancellor on brink of second bailout for banks.'}, {'index': 2, 'timestamp': 1668265641.9388034, 'transactions': [{'sender': 'Satoshi', 'recipient': 'Alex', 'amount': '10 BTC'}, {'sender': 'Alex', 'recipient': 'Satoshi', 'amount': '2 BTC'}, {'sender': 'Satoshi', 'recipient': 'James', 'amount': '10 BTC'}], 'proof': 10123, 'previous_hash': '60888610b3c6c75db552a72c9e7dd0b56456a3e6020f1336ea12100f78a4524c'}, {'index': 3, 'timestamp': 1668265641.9390733, 'transactions': [{'sender': 'Alex', 'recipient': 'Lucy', 'amount': '2 BTC'}, {'sender': 'Lucy', 'recipient': 'Justin', 'amount': '1 BTC'}, {'sender': 'Justin', 'recipient': 'Alex', 'amount': '1 BTC'}], 'proof': 10384, 'previous_hash': '78680e9e69ff411b07bd81febea86620545a087b6b47368b0551483299781413'}]\n"
          ]
        }
      ]
    },
    {
      "cell_type": "code",
      "source": [],
      "metadata": {
        "id": "TdTi31JsX_Yp"
      },
      "execution_count": null,
      "outputs": []
    }
  ],
  "metadata": {
    "colab": {
      "collapsed_sections": [],
      "name": "Un benvenuto a Colaboratory",
      "toc_visible": true,
      "provenance": [],
      "include_colab_link": true
    },
    "kernelspec": {
      "display_name": "Python 3",
      "name": "python3"
    }
  },
  "nbformat": 4,
  "nbformat_minor": 0
}