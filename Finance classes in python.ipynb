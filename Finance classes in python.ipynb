{
  "cells": [
    {
      "cell_type": "markdown",
      "metadata": {
        "id": "view-in-github",
        "colab_type": "text"
      },
      "source": [
        "<a href=\"https://colab.research.google.com/github/lorenzdes/Finance-functions/blob/main/Finance%20classes%20in%20python.ipynb\" target=\"_parent\"><img src=\"https://colab.research.google.com/assets/colab-badge.svg\" alt=\"Open In Colab\"/></a>"
      ]
    },
    {
      "cell_type": "code",
      "source": [
        "pip install yfinance"
      ],
      "metadata": {
        "colab": {
          "base_uri": "https://localhost:8080/"
        },
        "id": "Qep45wH-JjVq",
        "outputId": "af5e818c-204e-4e4d-95e7-10db5d86e378"
      },
      "execution_count": null,
      "outputs": [
        {
          "output_type": "stream",
          "name": "stdout",
          "text": [
            "Looking in indexes: https://pypi.org/simple, https://us-python.pkg.dev/colab-wheels/public/simple/\n",
            "Collecting yfinance\n",
            "  Downloading yfinance-0.1.84-py2.py3-none-any.whl (29 kB)\n",
            "Collecting requests>=2.26\n",
            "  Downloading requests-2.28.1-py3-none-any.whl (62 kB)\n",
            "\u001b[K     |████████████████████████████████| 62 kB 1.0 MB/s \n",
            "\u001b[?25hRequirement already satisfied: lxml>=4.5.1 in /usr/local/lib/python3.7/dist-packages (from yfinance) (4.9.1)\n",
            "Requirement already satisfied: appdirs>=1.4.4 in /usr/local/lib/python3.7/dist-packages (from yfinance) (1.4.4)\n",
            "Requirement already satisfied: pandas>=0.24.0 in /usr/local/lib/python3.7/dist-packages (from yfinance) (1.3.5)\n",
            "Requirement already satisfied: numpy>=1.15 in /usr/local/lib/python3.7/dist-packages (from yfinance) (1.21.6)\n",
            "Requirement already satisfied: multitasking>=0.0.7 in /usr/local/lib/python3.7/dist-packages (from yfinance) (0.0.11)\n",
            "Requirement already satisfied: pytz>=2017.3 in /usr/local/lib/python3.7/dist-packages (from pandas>=0.24.0->yfinance) (2022.5)\n",
            "Requirement already satisfied: python-dateutil>=2.7.3 in /usr/local/lib/python3.7/dist-packages (from pandas>=0.24.0->yfinance) (2.8.2)\n",
            "Requirement already satisfied: six>=1.5 in /usr/local/lib/python3.7/dist-packages (from python-dateutil>=2.7.3->pandas>=0.24.0->yfinance) (1.15.0)\n",
            "Requirement already satisfied: charset-normalizer<3,>=2 in /usr/local/lib/python3.7/dist-packages (from requests>=2.26->yfinance) (2.1.1)\n",
            "Requirement already satisfied: idna<4,>=2.5 in /usr/local/lib/python3.7/dist-packages (from requests>=2.26->yfinance) (2.10)\n",
            "Requirement already satisfied: urllib3<1.27,>=1.21.1 in /usr/local/lib/python3.7/dist-packages (from requests>=2.26->yfinance) (1.24.3)\n",
            "Requirement already satisfied: certifi>=2017.4.17 in /usr/local/lib/python3.7/dist-packages (from requests>=2.26->yfinance) (2022.9.24)\n",
            "Installing collected packages: requests, yfinance\n",
            "  Attempting uninstall: requests\n",
            "    Found existing installation: requests 2.23.0\n",
            "    Uninstalling requests-2.23.0:\n",
            "      Successfully uninstalled requests-2.23.0\n",
            "Successfully installed requests-2.28.1 yfinance-0.1.84\n"
          ]
        }
      ]
    },
    {
      "cell_type": "code",
      "source": [
        "import pandas as pd\n",
        "import yfinance as yf "
      ],
      "metadata": {
        "id": "Vkvpw5QtJEPR"
      },
      "execution_count": null,
      "outputs": []
    },
    {
      "cell_type": "code",
      "source": [
        "class stock():\n",
        "  def __init__(self, name, period):\n",
        "    self.name = name\n",
        "    self.period = period\n",
        "\n",
        "  def get_stock(self):\n",
        "    stock = yf.Ticker(self.name)\n",
        "    print(stock)\n",
        "    type(stock)\n",
        "\n",
        "    info = pd.DataFrame.from_dict(stock.info)\n",
        "    return info\n",
        "\n",
        "  def which_stock_data(self):\n",
        "    stock = yf.Ticker(self.name) \n",
        "    data = stock.history(period= self.period)\n",
        "    OHLC = pd.DataFrame(data)\n",
        "    return OHLC"
      ],
      "metadata": {
        "id": "rVoUV33MKKCo"
      },
      "execution_count": null,
      "outputs": []
    },
    {
      "cell_type": "code",
      "source": [
        "aapl = stock(\"AAPL\", \"max\")\n",
        "info = aapl.get_stock()\n",
        "print(info)\n",
        "\n",
        "OHLC_AAPL = aapl.which_stock_data()\n",
        "print(OHLC_AAPL)"
      ],
      "metadata": {
        "colab": {
          "base_uri": "https://localhost:8080/"
        },
        "id": "o7mPzp6QKEY_",
        "outputId": "75266945-a6b1-48d7-b71e-f9a7a39b9752"
      },
      "execution_count": null,
      "outputs": [
        {
          "output_type": "stream",
          "name": "stdout",
          "text": [
            "yfinance.Ticker object <AAPL>\n",
            "Empty DataFrame\n",
            "Columns: [zip, sector, fullTimeEmployees, longBusinessSummary, city, phone, state, country, companyOfficers, website, maxAge, address1, industry, ebitdaMargins, profitMargins, grossMargins, operatingCashflow, revenueGrowth, operatingMargins, ebitda, targetLowPrice, recommendationKey, grossProfits, freeCashflow, targetMedianPrice, currentPrice, earningsGrowth, currentRatio, returnOnAssets, numberOfAnalystOpinions, targetMeanPrice, debtToEquity, returnOnEquity, targetHighPrice, totalCash, totalDebt, totalRevenue, totalCashPerShare, financialCurrency, revenuePerShare, quickRatio, recommendationMean, exchange, shortName, longName, exchangeTimezoneName, exchangeTimezoneShortName, isEsgPopulated, gmtOffSetMilliseconds, quoteType, symbol, messageBoardId, market, annualHoldingsTurnover, enterpriseToRevenue, beta3Year, enterpriseToEbitda, 52WeekChange, morningStarRiskRating, forwardEps, revenueQuarterlyGrowth, sharesOutstanding, fundInceptionDate, annualReportExpenseRatio, totalAssets, bookValue, sharesShort, sharesPercentSharesOut, fundFamily, lastFiscalYearEnd, heldPercentInstitutions, netIncomeToCommon, trailingEps, lastDividendValue, SandP52WeekChange, priceToBook, heldPercentInsiders, nextFiscalYearEnd, yield, mostRecentQuarter, shortRatio, sharesShortPreviousMonthDate, floatShares, beta, enterpriseValue, priceHint, threeYearAverageReturn, lastSplitDate, lastSplitFactor, legalType, lastDividendDate, morningStarOverallRating, earningsQuarterlyGrowth, priceToSalesTrailing12Months, dateShortInterest, pegRatio, ytdReturn, forwardPE, lastCapGain, shortPercentOfFloat, ...]\n",
            "Index: []\n",
            "\n",
            "[0 rows x 153 columns]\n",
            "                                 Open        High         Low       Close  \\\n",
            "Date                                                                        \n",
            "1980-12-12 00:00:00-05:00    0.100040    0.100474    0.100040    0.100040   \n",
            "1980-12-15 00:00:00-05:00    0.095255    0.095255    0.094820    0.094820   \n",
            "1980-12-16 00:00:00-05:00    0.088296    0.088296    0.087861    0.087861   \n",
            "1980-12-17 00:00:00-05:00    0.090035    0.090470    0.090035    0.090035   \n",
            "1980-12-18 00:00:00-05:00    0.092646    0.093081    0.092646    0.092646   \n",
            "...                               ...         ...         ...         ...   \n",
            "2022-10-27 00:00:00-04:00  148.070007  149.050003  144.130005  144.800003   \n",
            "2022-10-28 00:00:00-04:00  148.199997  157.500000  147.820007  155.740005   \n",
            "2022-10-31 00:00:00-04:00  153.160004  154.240005  151.919998  153.339996   \n",
            "2022-11-01 00:00:00-04:00  155.080002  155.449997  149.130005  150.649994   \n",
            "2022-11-02 00:00:00-04:00  148.945007  150.589996  148.190002  148.860001   \n",
            "\n",
            "                              Volume  Dividends  Stock Splits  \n",
            "Date                                                           \n",
            "1980-12-12 00:00:00-05:00  469033600        0.0           0.0  \n",
            "1980-12-15 00:00:00-05:00  175884800        0.0           0.0  \n",
            "1980-12-16 00:00:00-05:00  105728000        0.0           0.0  \n",
            "1980-12-17 00:00:00-05:00   86441600        0.0           0.0  \n",
            "1980-12-18 00:00:00-05:00   73449600        0.0           0.0  \n",
            "...                              ...        ...           ...  \n",
            "2022-10-27 00:00:00-04:00  109180200        0.0           0.0  \n",
            "2022-10-28 00:00:00-04:00  164762400        0.0           0.0  \n",
            "2022-10-31 00:00:00-04:00   97943200        0.0           0.0  \n",
            "2022-11-01 00:00:00-04:00   80321400        0.0           0.0  \n",
            "2022-11-02 00:00:00-04:00   29724812        0.0           0.0  \n",
            "\n",
            "[10563 rows x 7 columns]\n"
          ]
        }
      ]
    },
    {
      "cell_type": "code",
      "source": [],
      "metadata": {
        "id": "ktQ1_1i5Jxv7"
      },
      "execution_count": null,
      "outputs": []
    },
    {
      "cell_type": "code",
      "source": [],
      "metadata": {
        "id": "ydsILoUEJxz5"
      },
      "execution_count": null,
      "outputs": []
    }
  ],
  "metadata": {
    "colab": {
      "collapsed_sections": [],
      "name": "Welcome To Colaboratory",
      "toc_visible": true,
      "provenance": [],
      "include_colab_link": true
    },
    "kernelspec": {
      "display_name": "Python 3",
      "name": "python3"
    }
  },
  "nbformat": 4,
  "nbformat_minor": 0
}