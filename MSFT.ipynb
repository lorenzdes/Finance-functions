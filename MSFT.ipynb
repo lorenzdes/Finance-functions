{
  "nbformat": 4,
  "nbformat_minor": 0,
  "metadata": {
    "colab": {
      "provenance": [],
      "authorship_tag": "ABX9TyMnDHOKIZkGs4S6h6pvV1ub",
      "include_colab_link": true
    },
    "kernelspec": {
      "name": "python3",
      "display_name": "Python 3"
    },
    "language_info": {
      "name": "python"
    }
  },
  "cells": [
    {
      "cell_type": "markdown",
      "metadata": {
        "id": "view-in-github",
        "colab_type": "text"
      },
      "source": [
        "<a href=\"https://colab.research.google.com/github/lorenzdes/Finance-functions/blob/main/MSFT.ipynb\" target=\"_parent\"><img src=\"https://colab.research.google.com/assets/colab-badge.svg\" alt=\"Open In Colab\"/></a>"
      ]
    },
    {
      "cell_type": "code",
      "metadata": {
        "colab": {
          "base_uri": "https://localhost:8080/"
        },
        "id": "2z3g2DAlLe0j",
        "outputId": "03bb61a3-502e-40a4-a9a2-83331da75e5b"
      },
      "source": [
        "pip install yahoo_fin"
      ],
      "execution_count": null,
      "outputs": [
        {
          "output_type": "stream",
          "name": "stdout",
          "text": [
            "Collecting yahoo_fin\n",
            "  Downloading yahoo_fin-0.8.9.1-py3-none-any.whl (10 kB)\n",
            "Collecting feedparser\n",
            "  Downloading feedparser-6.0.8-py3-none-any.whl (81 kB)\n",
            "\u001b[K     |████████████████████████████████| 81 kB 3.9 MB/s \n",
            "\u001b[?25hRequirement already satisfied: pandas in /usr/local/lib/python3.7/dist-packages (from yahoo_fin) (1.1.5)\n",
            "Collecting requests-html\n",
            "  Downloading requests_html-0.10.0-py3-none-any.whl (13 kB)\n",
            "Requirement already satisfied: requests in /usr/local/lib/python3.7/dist-packages (from yahoo_fin) (2.23.0)\n",
            "Collecting sgmllib3k\n",
            "  Downloading sgmllib3k-1.0.0.tar.gz (5.8 kB)\n",
            "Requirement already satisfied: numpy>=1.15.4 in /usr/local/lib/python3.7/dist-packages (from pandas->yahoo_fin) (1.19.5)\n",
            "Requirement already satisfied: python-dateutil>=2.7.3 in /usr/local/lib/python3.7/dist-packages (from pandas->yahoo_fin) (2.8.2)\n",
            "Requirement already satisfied: pytz>=2017.2 in /usr/local/lib/python3.7/dist-packages (from pandas->yahoo_fin) (2018.9)\n",
            "Requirement already satisfied: six>=1.5 in /usr/local/lib/python3.7/dist-packages (from python-dateutil>=2.7.3->pandas->yahoo_fin) (1.15.0)\n",
            "Requirement already satisfied: urllib3!=1.25.0,!=1.25.1,<1.26,>=1.21.1 in /usr/local/lib/python3.7/dist-packages (from requests->yahoo_fin) (1.24.3)\n",
            "Requirement already satisfied: certifi>=2017.4.17 in /usr/local/lib/python3.7/dist-packages (from requests->yahoo_fin) (2021.10.8)\n",
            "Requirement already satisfied: idna<3,>=2.5 in /usr/local/lib/python3.7/dist-packages (from requests->yahoo_fin) (2.10)\n",
            "Requirement already satisfied: chardet<4,>=3.0.2 in /usr/local/lib/python3.7/dist-packages (from requests->yahoo_fin) (3.0.4)\n",
            "Requirement already satisfied: bs4 in /usr/local/lib/python3.7/dist-packages (from requests-html->yahoo_fin) (0.0.1)\n",
            "Collecting parse\n",
            "  Downloading parse-1.19.0.tar.gz (30 kB)\n",
            "Collecting pyppeteer>=0.0.14\n",
            "  Downloading pyppeteer-0.2.6-py3-none-any.whl (83 kB)\n",
            "\u001b[K     |████████████████████████████████| 83 kB 2.5 MB/s \n",
            "\u001b[?25hCollecting fake-useragent\n",
            "  Downloading fake-useragent-0.1.11.tar.gz (13 kB)\n",
            "Collecting pyquery\n",
            "  Downloading pyquery-1.4.3-py3-none-any.whl (22 kB)\n",
            "Collecting w3lib\n",
            "  Downloading w3lib-1.22.0-py2.py3-none-any.whl (20 kB)\n",
            "Collecting urllib3!=1.25.0,!=1.25.1,<1.26,>=1.21.1\n",
            "  Downloading urllib3-1.25.11-py2.py3-none-any.whl (127 kB)\n",
            "\u001b[K     |████████████████████████████████| 127 kB 11.9 MB/s \n",
            "\u001b[?25hRequirement already satisfied: importlib-metadata>=1.4 in /usr/local/lib/python3.7/dist-packages (from pyppeteer>=0.0.14->requests-html->yahoo_fin) (4.8.2)\n",
            "Requirement already satisfied: appdirs<2.0.0,>=1.4.3 in /usr/local/lib/python3.7/dist-packages (from pyppeteer>=0.0.14->requests-html->yahoo_fin) (1.4.4)\n",
            "Requirement already satisfied: tqdm<5.0.0,>=4.42.1 in /usr/local/lib/python3.7/dist-packages (from pyppeteer>=0.0.14->requests-html->yahoo_fin) (4.62.3)\n",
            "Collecting pyee<9.0.0,>=8.1.0\n",
            "  Downloading pyee-8.2.2-py2.py3-none-any.whl (12 kB)\n",
            "Collecting websockets<10.0,>=9.1\n",
            "  Downloading websockets-9.1-cp37-cp37m-manylinux2010_x86_64.whl (103 kB)\n",
            "\u001b[K     |████████████████████████████████| 103 kB 33.6 MB/s \n",
            "\u001b[?25hRequirement already satisfied: typing-extensions>=3.6.4 in /usr/local/lib/python3.7/dist-packages (from importlib-metadata>=1.4->pyppeteer>=0.0.14->requests-html->yahoo_fin) (3.10.0.2)\n",
            "Requirement already satisfied: zipp>=0.5 in /usr/local/lib/python3.7/dist-packages (from importlib-metadata>=1.4->pyppeteer>=0.0.14->requests-html->yahoo_fin) (3.6.0)\n",
            "Requirement already satisfied: beautifulsoup4 in /usr/local/lib/python3.7/dist-packages (from bs4->requests-html->yahoo_fin) (4.6.3)\n",
            "Requirement already satisfied: lxml>=2.1 in /usr/local/lib/python3.7/dist-packages (from pyquery->requests-html->yahoo_fin) (4.2.6)\n",
            "Collecting cssselect>0.7.9\n",
            "  Downloading cssselect-1.1.0-py2.py3-none-any.whl (16 kB)\n",
            "Building wheels for collected packages: fake-useragent, parse, sgmllib3k\n",
            "  Building wheel for fake-useragent (setup.py) ... \u001b[?25l\u001b[?25hdone\n",
            "  Created wheel for fake-useragent: filename=fake_useragent-0.1.11-py3-none-any.whl size=13502 sha256=4cabe7ae8d0cda1cfd07efaba72ba0b555b0a81e2fb8572aeeb6479d934adce4\n",
            "  Stored in directory: /root/.cache/pip/wheels/ed/f7/62/50ab6c9a0b5567267ab76a9daa9d06315704209b2c5d032031\n",
            "  Building wheel for parse (setup.py) ... \u001b[?25l\u001b[?25hdone\n",
            "  Created wheel for parse: filename=parse-1.19.0-py3-none-any.whl size=24591 sha256=e9007fc001a7c2f50da3e99782b961ad36f442b072fd9aadae2a468e249405d7\n",
            "  Stored in directory: /root/.cache/pip/wheels/9c/aa/cc/f2228050ccb40f22144b073f15a2c84f11204f29fc0dce028e\n",
            "  Building wheel for sgmllib3k (setup.py) ... \u001b[?25l\u001b[?25hdone\n",
            "  Created wheel for sgmllib3k: filename=sgmllib3k-1.0.0-py3-none-any.whl size=6065 sha256=f56146b8c5984e54ea912a6beb1f1d5b9fcc25c4f04a51a942173e810aeca079\n",
            "  Stored in directory: /root/.cache/pip/wheels/73/ad/a4/0dff4a6ef231fc0dfa12ffbac2a36cebfdddfe059f50e019aa\n",
            "Successfully built fake-useragent parse sgmllib3k\n",
            "Installing collected packages: websockets, urllib3, pyee, cssselect, w3lib, sgmllib3k, pyquery, pyppeteer, parse, fake-useragent, requests-html, feedparser, yahoo-fin\n",
            "  Attempting uninstall: urllib3\n",
            "    Found existing installation: urllib3 1.24.3\n",
            "    Uninstalling urllib3-1.24.3:\n",
            "      Successfully uninstalled urllib3-1.24.3\n",
            "\u001b[31mERROR: pip's dependency resolver does not currently take into account all the packages that are installed. This behaviour is the source of the following dependency conflicts.\n",
            "datascience 0.10.6 requires folium==0.2.1, but you have folium 0.8.3 which is incompatible.\u001b[0m\n",
            "Successfully installed cssselect-1.1.0 fake-useragent-0.1.11 feedparser-6.0.8 parse-1.19.0 pyee-8.2.2 pyppeteer-0.2.6 pyquery-1.4.3 requests-html-0.10.0 sgmllib3k-1.0.0 urllib3-1.25.11 w3lib-1.22.0 websockets-9.1 yahoo-fin-0.8.9.1\n"
          ]
        }
      ]
    },
    {
      "cell_type": "code",
      "metadata": {
        "colab": {
          "base_uri": "https://localhost:8080/",
          "height": 301
        },
        "id": "28Cw_dgkLTyJ",
        "outputId": "daf7c25a-54c7-462f-81d1-765ae1733f9d"
      },
      "source": [
        "## GET BALANCES and EVALUATE POLARITIES \n",
        "#pip install yahoo_fin\n",
        "import yahoo_fin.stock_info as si\n",
        "import pandas as pd\n",
        "\n",
        "dow_list = si.tickers_dow()\n",
        "# FTSE\n",
        "balance_sheets = {}\n",
        "for ticker in dow_list:\n",
        "    balance_sheets[ticker] = si.get_balance_sheet(ticker)\n",
        "\n",
        "cash_flows = {}\n",
        "for ticker in dow_list:\n",
        "    cash_flows[ticker] = si.get_cash_flow(ticker)\n",
        "recent_cash_flows = {ticker : flow.iloc[:,:1] for ticker,flow in cash_flows.items()}\n",
        " \n",
        " \n",
        "for ticker in recent_cash_flows.keys():\n",
        "    recent_cash_flows[ticker].columns = [\"Recent\"]\n",
        "combined_cash_flows = pd.concat(recent_cash_flows)\n",
        "combined_cash_flows = combined_cash_flows.reset_index()\n",
        "combined_cash_flows.columns = [\"Ticker\", \"Breakdown\", \"Recent\"]\n",
        "\n",
        "combined_cash_flows[combined_cash_flows.Breakdown == \"dividendsPaid\"]\n",
        "\n",
        "# Predict \n",
        "\n",
        "\n",
        "MSFT = cash_flows['MSFT']\n",
        "#print(MSFT)\n",
        "\n",
        "colnames = []\n",
        "for i in MSFT:\n",
        "  colnames.append(i)\n",
        "\n",
        "from pandas.plotting import autocorrelation_plot\n",
        "autocorrelation_plot(MSFT)\n"
      ],
      "execution_count": null,
      "outputs": [
        {
          "output_type": "execute_result",
          "data": {
            "text/plain": [
              "<matplotlib.axes._subplots.AxesSubplot at 0x7f6121c7c610>"
            ]
          },
          "metadata": {},
          "execution_count": 3
        },
        {
          "output_type": "display_data",
          "data": {
            "image/png": "[encoded data removed]",
            "text/plain": [
              "<Figure size 432x288 with 1 Axes>"
            ]
          },
          "metadata": {
            "needs_background": "light"
          }
        }
      ]
    },
    {
      "cell_type": "code",
      "metadata": {
        "colab": {
          "base_uri": "https://localhost:8080/"
        },
        "id": "9ft16OSACUiN",
        "outputId": "d21dda39-105c-4622-c257-e0de9b99ba18"
      },
      "source": [
        "pip install tsa"
      ],
      "execution_count": null,
      "outputs": [
        {
          "output_type": "stream",
          "name": "stdout",
          "text": [
            "\u001b[31mERROR: Could not find a version that satisfies the requirement tsa (from versions: none)\u001b[0m\n",
            "\u001b[31mERROR: No matching distribution found for tsa\u001b[0m\n"
          ]
        }
      ]
    },
    {
      "cell_type": "code",
      "metadata": {
        "colab": {
          "base_uri": "https://localhost:8080/"
        },
        "id": "O37q_LLyeDNr",
        "outputId": "fe54481f-27b4-4629-8bb8-0247dbf594b8"
      },
      "source": [
        "print(MSFT.iloc[:,0:2])"
      ],
      "execution_count": null,
      "outputs": [
        {
          "output_type": "stream",
          "name": "stdout",
          "text": [
            "endDate                                 2021-06-30   2020-06-30\n",
            "Breakdown                                                      \n",
            "investments                             2876000000   6980000000\n",
            "changeToLiabilities                     7431000000   5230000000\n",
            "totalCashflowsFromInvestingActivities -27577000000 -12223000000\n",
            "netBorrowings                          -3750000000  -5518000000\n",
            "totalCashFromFinancingActivities      -48486000000 -46031000000\n",
            "changeToOperatingActivities             1160000000   -673000000\n",
            "issuanceOfStock                         1693000000   1343000000\n",
            "netIncome                              61271000000  44281000000\n",
            "changeInCash                             648000000   2220000000\n",
            "repurchaseOfStock                     -27385000000 -22968000000\n",
            "effectOfExchangeRate                     -29000000   -201000000\n",
            "totalCashFromOperatingActivities       76740000000  60675000000\n",
            "depreciation                           10900000000  12300000000\n",
            "otherCashflowsFromInvestingActivities   -922000000  -1241000000\n",
            "dividendsPaid                         -16521000000 -15137000000\n",
            "changeToInventory                       -737000000    168000000\n",
            "changeToAccountReceivables             -6481000000  -2577000000\n",
            "otherCashflowsFromFinancingActivities  -2523000000  -3751000000\n",
            "changeToNetincome                       5505000000   5577000000\n",
            "capitalExpenditures                   -20622000000 -15441000000\n"
          ]
        }
      ]
    },
    {
      "cell_type": "code",
      "metadata": {
        "colab": {
          "base_uri": "https://localhost:8080/"
        },
        "id": "CMkyrHsTBwdi",
        "outputId": "1898c883-3bdb-4975-c63c-111f05ed4332"
      },
      "source": [
        "import statsmodels.api as sm\n",
        "import statsmodels.formula.api as smf\n",
        "from statsmodels.tsa.arima_model import ARIMA\n",
        "model = ARIMA(MSFT.iloc[:,0:1], order = (5, 1, 0))\n",
        "model_fit = model.fit()\n",
        "print(model_fit.summary())\n",
        "residuals = (model_fit.resid)\n",
        "#residuals.plot()\n"
      ],
      "execution_count": null,
      "outputs": [
        {
          "output_type": "stream",
          "name": "stderr",
          "text": [
            "/usr/local/lib/python3.7/dist-packages/statsmodels/tsa/base/tsa_model.py:215: ValueWarning: An unsupported index was provided and will be ignored when e.g. forecasting.\n",
            "  ' ignored when e.g. forecasting.', ValueWarning)\n",
            "/usr/local/lib/python3.7/dist-packages/statsmodels/tsa/base/tsa_model.py:215: ValueWarning: An unsupported index was provided and will be ignored when e.g. forecasting.\n",
            "  ' ignored when e.g. forecasting.', ValueWarning)\n"
          ]
        },
        {
          "output_type": "stream",
          "name": "stdout",
          "text": [
            "                               ARIMA Model Results                               \n",
            "=================================================================================\n",
            "Dep. Variable:     D.2021-06-30 00:00:00   No. Observations:                   19\n",
            "Model:                    ARIMA(5, 1, 0)   Log Likelihood                -482.812\n",
            "Method:                          css-mle   S.D. of innovations    24898119171.195\n",
            "Date:                   Sun, 21 Nov 2021   AIC                            979.625\n",
            "Time:                           17:31:39   BIC                            986.236\n",
            "Sample:                                1   HQIC                           980.744\n",
            "                                                                                 \n",
            "===============================================================================================\n",
            "                                  coef    std err          z      P>|z|      [0.025      0.975]\n",
            "-----------------------------------------------------------------------------------------------\n",
            "const                       -1.237e+09    2.2e+09     -0.563      0.583   -5.55e+09    3.07e+09\n",
            "ar.L1.D.2021-06-30 00:00:00    -0.5204      0.248     -2.095      0.056      -1.007      -0.034\n",
            "ar.L2.D.2021-06-30 00:00:00    -0.6377      0.282     -2.261      0.042      -1.191      -0.085\n",
            "ar.L3.D.2021-06-30 00:00:00    -0.7305      0.247     -2.957      0.011      -1.215      -0.246\n",
            "ar.L4.D.2021-06-30 00:00:00    -0.1357      0.272     -0.498      0.627      -0.670       0.398\n",
            "ar.L5.D.2021-06-30 00:00:00    -0.3001      0.227     -1.321      0.209      -0.745       0.145\n",
            "                                    Roots                                    \n",
            "=============================================================================\n",
            "                  Real          Imaginary           Modulus         Frequency\n",
            "-----------------------------------------------------------------------------\n",
            "AR.1           -1.0817           -0.0000j            1.0817           -0.5000\n",
            "AR.2            0.5108           -1.1829j            1.2885           -0.1851\n",
            "AR.3            0.5108           +1.1829j            1.2885            0.1851\n",
            "AR.4           -0.1961           -1.3480j            1.3622           -0.2730\n",
            "AR.5           -0.1961           +1.3480j            1.3622            0.2730\n",
            "-----------------------------------------------------------------------------\n"
          ]
        }
      ]
    },
    {
      "cell_type": "code",
      "metadata": {
        "id": "Ad3UYxr0dLiC"
      },
      "source": [],
      "execution_count": null,
      "outputs": []
    },
    {
      "cell_type": "markdown",
      "metadata": {
        "id": "W0Eti47mdLIA"
      },
      "source": []
    }
  ]
}